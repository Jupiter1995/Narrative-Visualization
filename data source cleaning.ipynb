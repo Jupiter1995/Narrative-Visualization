{
 "cells": [
  {
   "cell_type": "code",
   "execution_count": 3,
   "metadata": {},
   "outputs": [],
   "source": [
    "import pandas as pd\n",
    "import numpy as np\n"
   ]
  },
  {
   "cell_type": "code",
   "execution_count": 14,
   "metadata": {},
   "outputs": [],
   "source": [
    "df_population = pd.read_csv('./data/population_data_byYear.csv')\n",
    "df_2020 = pd.read_csv('./data/COVID data_2020.csv')\n",
    "df_2021 = pd.read_csv('./data/COVID data_2021.csv')\n",
    "df_2022 = pd.read_csv('./data/COVID data_2022.csv')"
   ]
  },
  {
   "cell_type": "code",
   "execution_count": 15,
   "metadata": {},
   "outputs": [
    {
     "name": "stdout",
     "output_type": "stream",
     "text": [
      "<class 'pandas.core.frame.DataFrame'>\n",
      "RangeIndex: 266 entries, 0 to 265\n",
      "Data columns (total 6 columns):\n",
      " #   Column         Non-Null Count  Dtype \n",
      "---  ------         --------------  ----- \n",
      " 0   Series Name    266 non-null    object\n",
      " 1   Country Name   266 non-null    object\n",
      " 2   Country Code   266 non-null    object\n",
      " 3   2019 [YR2019]  266 non-null    object\n",
      " 4   2020 [YR2020]  266 non-null    object\n",
      " 5   2021 [YR2021]  266 non-null    object\n",
      "dtypes: object(6)\n",
      "memory usage: 12.6+ KB\n"
     ]
    }
   ],
   "source": [
    "df_population.info()"
   ]
  },
  {
   "cell_type": "code",
   "execution_count": 28,
   "metadata": {},
   "outputs": [
    {
     "data": {
      "text/plain": [
       "['Series Name',\n",
       " 'Country Name',\n",
       " 'Country Code',\n",
       " '2019 [YR2019]',\n",
       " '2020 [YR2020]',\n",
       " '2021 [YR2021]']"
      ]
     },
     "execution_count": 28,
     "metadata": {},
     "output_type": "execute_result"
    }
   ],
   "source": [
    "list(df_population.columns)"
   ]
  },
  {
   "cell_type": "code",
   "execution_count": 35,
   "metadata": {},
   "outputs": [
    {
     "name": "stdout",
     "output_type": "stream",
     "text": [
      "<class 'pandas.core.frame.DataFrame'>\n",
      "RangeIndex: 266 entries, 0 to 265\n",
      "Data columns (total 4 columns):\n",
      " #   Column         Non-Null Count  Dtype  \n",
      "---  ------         --------------  -----  \n",
      " 0   2019 [YR2019]  264 non-null    float64\n",
      " 1   2020 [YR2020]  264 non-null    float64\n",
      " 2   2021 [YR2021]  264 non-null    float64\n",
      " 3   Country Name   266 non-null    object \n",
      "dtypes: float64(3), object(1)\n",
      "memory usage: 8.4+ KB\n"
     ]
    }
   ],
   "source": [
    "df_pop = df_population[['2019 [YR2019]','2020 [YR2020]','2021 [YR2021]']].apply(\n",
    "    lambda x: x.apply(\n",
    "        lambda x: float(x) if x.isnumeric() else np.nan\n",
    "    )\n",
    ")\n",
    "df_pop['Country Name'] = df_population['Country Name']\n",
    "df_pop.info()"
   ]
  },
  {
   "cell_type": "code",
   "execution_count": 67,
   "metadata": {},
   "outputs": [],
   "source": [
    "pop_country = set(sorted(df_pop['Country Name'].unique()))"
   ]
  },
  {
   "cell_type": "code",
   "execution_count": 36,
   "metadata": {
    "scrolled": false
   },
   "outputs": [
    {
     "name": "stdout",
     "output_type": "stream",
     "text": [
      "<class 'pandas.core.frame.DataFrame'>\n",
      "RangeIndex: 276 entries, 0 to 275\n",
      "Data columns (total 5 columns):\n",
      " #   Column                Non-Null Count  Dtype  \n",
      "---  ------                --------------  -----  \n",
      " 0   Climate               276 non-null    object \n",
      " 1   Country Region        276 non-null    object \n",
      " 2   Country/Region        276 non-null    object \n",
      " 3   Province/State        89 non-null     object \n",
      " 4   Avg. Confirmed Cases  276 non-null    float64\n",
      "dtypes: float64(1), object(4)\n",
      "memory usage: 10.9+ KB\n"
     ]
    }
   ],
   "source": [
    "df_2020.info()"
   ]
  },
  {
   "cell_type": "code",
   "execution_count": 68,
   "metadata": {},
   "outputs": [],
   "source": [
    "df_country = set(sorted(df_2020['Country Region'].unique()))"
   ]
  },
  {
   "cell_type": "code",
   "execution_count": 64,
   "metadata": {},
   "outputs": [
    {
     "data": {
      "text/plain": [
       "1"
      ]
     },
     "execution_count": 64,
     "metadata": {},
     "output_type": "execute_result"
    }
   ],
   "source": [
    "sum([True if p==d else False for p, d in zip(pop_country, df_country)])"
   ]
  },
  {
   "cell_type": "code",
   "execution_count": 70,
   "metadata": {
    "scrolled": false
   },
   "outputs": [
    {
     "data": {
      "text/plain": [
       "166"
      ]
     },
     "execution_count": 70,
     "metadata": {},
     "output_type": "execute_result"
    }
   ],
   "source": [
    "len(df_country.intersection(pop_country))"
   ]
  },
  {
   "cell_type": "code",
   "execution_count": null,
   "metadata": {},
   "outputs": [],
   "source": []
  },
  {
   "cell_type": "code",
   "execution_count": 37,
   "metadata": {},
   "outputs": [],
   "source": [
    "def clean_df(df):\n",
    "    df_c = df.drop(columns=['Country/Region', 'Province/State']).dropna()\n",
    "    return df_c"
   ]
  },
  {
   "cell_type": "code",
   "execution_count": 38,
   "metadata": {},
   "outputs": [],
   "source": [
    "df_2020_comp = clean_df(df_2020)\n",
    "df_2022_comp = clean_df(df_2022)"
   ]
  },
  {
   "cell_type": "code",
   "execution_count": 39,
   "metadata": {},
   "outputs": [],
   "source": [
    "df_2021_comp = df_2021.drop(columns=['Country/Region', 'Province/State', 'Avg. People fully vaccinated']).dropna()"
   ]
  },
  {
   "cell_type": "code",
   "execution_count": 93,
   "metadata": {},
   "outputs": [],
   "source": [
    "def Merge(df, df_pop, col_year):\n",
    "    df_new =pd.merge(df, \n",
    "         df_pop[['Country Name', col_year]], \n",
    "         how='outer', \n",
    "         left_on='Country Region', \n",
    "         right_on='Country Name')\n",
    "    df_new.dropna(inplace=True)\n",
    "    df_new = df_new.groupby(['Climate','Country Region']).mean()\n",
    "    return df_new\n"
   ]
  },
  {
   "cell_type": "code",
   "execution_count": 96,
   "metadata": {},
   "outputs": [],
   "source": [
    "df_pop_covid_2020 = Merge(df_2020_comp, df_pop, '2019 [YR2019]')\n",
    "df_pop_covid_2021 = Merge(df_2021_comp, df_pop, '2020 [YR2020]')\n",
    "df_pop_covid_2022 = Merge(df_2022_comp, df_pop, '2021 [YR2021]')"
   ]
  },
  {
   "cell_type": "code",
   "execution_count": 97,
   "metadata": {},
   "outputs": [],
   "source": [
    "df_pop_covid_2020.to_csv('./data/population_covid_2020.csv')\n",
    "df_pop_covid_2021.to_csv('./data/population_covid_2021.csv')\n",
    "df_pop_covid_2022.to_csv('./data/population_covid_2022.csv')"
   ]
  },
  {
   "cell_type": "markdown",
   "metadata": {},
   "source": [
    "#### Testing Merge with population dataset"
   ]
  },
  {
   "cell_type": "code",
   "execution_count": 71,
   "metadata": {},
   "outputs": [],
   "source": [
    "df_test_2020 = pd.merge(df_2020_comp, \n",
    "         df_pop[['Country Name', '2019 [YR2019]']], \n",
    "         how='inner', \n",
    "         left_on='Country Region', \n",
    "         right_on='Country Name')"
   ]
  },
  {
   "cell_type": "code",
   "execution_count": 85,
   "metadata": {},
   "outputs": [
    {
     "data": {
      "text/plain": [
       "(252, 5)"
      ]
     },
     "execution_count": 85,
     "metadata": {},
     "output_type": "execute_result"
    }
   ],
   "source": [
    "df_test_2020.shape"
   ]
  },
  {
   "cell_type": "code",
   "execution_count": 73,
   "metadata": {},
   "outputs": [
    {
     "data": {
      "text/html": [
       "<div>\n",
       "<style scoped>\n",
       "    .dataframe tbody tr th:only-of-type {\n",
       "        vertical-align: middle;\n",
       "    }\n",
       "\n",
       "    .dataframe tbody tr th {\n",
       "        vertical-align: top;\n",
       "    }\n",
       "\n",
       "    .dataframe thead th {\n",
       "        text-align: right;\n",
       "    }\n",
       "</style>\n",
       "<table border=\"1\" class=\"dataframe\">\n",
       "  <thead>\n",
       "    <tr style=\"text-align: right;\">\n",
       "      <th></th>\n",
       "      <th>Climate</th>\n",
       "      <th>Country Region</th>\n",
       "      <th>Avg. Confirmed Cases</th>\n",
       "      <th>Country Name</th>\n",
       "      <th>2019 [YR2019]</th>\n",
       "    </tr>\n",
       "  </thead>\n",
       "  <tbody>\n",
       "    <tr>\n",
       "      <th>242</th>\n",
       "      <td>Subtropics</td>\n",
       "      <td>Australia</td>\n",
       "      <td>90.19</td>\n",
       "      <td>Australia</td>\n",
       "      <td>25365745.0</td>\n",
       "    </tr>\n",
       "    <tr>\n",
       "      <th>243</th>\n",
       "      <td>Temperate</td>\n",
       "      <td>Australia</td>\n",
       "      <td>178.13</td>\n",
       "      <td>Australia</td>\n",
       "      <td>25365745.0</td>\n",
       "    </tr>\n",
       "    <tr>\n",
       "      <th>244</th>\n",
       "      <td>Temperate</td>\n",
       "      <td>Armenia</td>\n",
       "      <td>42182.83</td>\n",
       "      <td>Armenia</td>\n",
       "      <td>2957728.0</td>\n",
       "    </tr>\n",
       "    <tr>\n",
       "      <th>245</th>\n",
       "      <td>Subtropics</td>\n",
       "      <td>Argentina</td>\n",
       "      <td>429960.64</td>\n",
       "      <td>Argentina</td>\n",
       "      <td>44938712.0</td>\n",
       "    </tr>\n",
       "    <tr>\n",
       "      <th>246</th>\n",
       "      <td>Tropical</td>\n",
       "      <td>Antigua and Barbuda</td>\n",
       "      <td>66.38</td>\n",
       "      <td>Antigua and Barbuda</td>\n",
       "      <td>97115.0</td>\n",
       "    </tr>\n",
       "    <tr>\n",
       "      <th>247</th>\n",
       "      <td>Tropical</td>\n",
       "      <td>Angola</td>\n",
       "      <td>3893.94</td>\n",
       "      <td>Angola</td>\n",
       "      <td>31825299.0</td>\n",
       "    </tr>\n",
       "    <tr>\n",
       "      <th>248</th>\n",
       "      <td>Temperate</td>\n",
       "      <td>Andorra</td>\n",
       "      <td>1979.19</td>\n",
       "      <td>Andorra</td>\n",
       "      <td>77146.0</td>\n",
       "    </tr>\n",
       "    <tr>\n",
       "      <th>249</th>\n",
       "      <td>Subtropics</td>\n",
       "      <td>Algeria</td>\n",
       "      <td>30676.45</td>\n",
       "      <td>Algeria</td>\n",
       "      <td>43053054.0</td>\n",
       "    </tr>\n",
       "    <tr>\n",
       "      <th>250</th>\n",
       "      <td>Temperate</td>\n",
       "      <td>Albania</td>\n",
       "      <td>10804.48</td>\n",
       "      <td>Albania</td>\n",
       "      <td>2854191.0</td>\n",
       "    </tr>\n",
       "    <tr>\n",
       "      <th>251</th>\n",
       "      <td>Subtropics</td>\n",
       "      <td>Afghanistan</td>\n",
       "      <td>24642.76</td>\n",
       "      <td>Afghanistan</td>\n",
       "      <td>38041757.0</td>\n",
       "    </tr>\n",
       "  </tbody>\n",
       "</table>\n",
       "</div>"
      ],
      "text/plain": [
       "        Climate       Country Region  Avg. Confirmed Cases  \\\n",
       "242  Subtropics            Australia                 90.19   \n",
       "243   Temperate            Australia                178.13   \n",
       "244   Temperate              Armenia              42182.83   \n",
       "245  Subtropics            Argentina             429960.64   \n",
       "246    Tropical  Antigua and Barbuda                 66.38   \n",
       "247    Tropical               Angola               3893.94   \n",
       "248   Temperate              Andorra               1979.19   \n",
       "249  Subtropics              Algeria              30676.45   \n",
       "250   Temperate              Albania              10804.48   \n",
       "251  Subtropics          Afghanistan              24642.76   \n",
       "\n",
       "            Country Name  2019 [YR2019]  \n",
       "242            Australia     25365745.0  \n",
       "243            Australia     25365745.0  \n",
       "244              Armenia      2957728.0  \n",
       "245            Argentina     44938712.0  \n",
       "246  Antigua and Barbuda        97115.0  \n",
       "247               Angola     31825299.0  \n",
       "248              Andorra        77146.0  \n",
       "249              Algeria     43053054.0  \n",
       "250              Albania      2854191.0  \n",
       "251          Afghanistan     38041757.0  "
      ]
     },
     "metadata": {},
     "output_type": "display_data"
    },
    {
     "data": {
      "text/html": [
       "<div>\n",
       "<style scoped>\n",
       "    .dataframe tbody tr th:only-of-type {\n",
       "        vertical-align: middle;\n",
       "    }\n",
       "\n",
       "    .dataframe tbody tr th {\n",
       "        vertical-align: top;\n",
       "    }\n",
       "\n",
       "    .dataframe thead th {\n",
       "        text-align: right;\n",
       "    }\n",
       "</style>\n",
       "<table border=\"1\" class=\"dataframe\">\n",
       "  <thead>\n",
       "    <tr style=\"text-align: right;\">\n",
       "      <th></th>\n",
       "      <th>Climate</th>\n",
       "      <th>Country Region</th>\n",
       "      <th>Avg. Confirmed Cases</th>\n",
       "      <th>Country Name</th>\n",
       "      <th>2019 [YR2019]</th>\n",
       "    </tr>\n",
       "  </thead>\n",
       "  <tbody>\n",
       "    <tr>\n",
       "      <th>0</th>\n",
       "      <td>Tropical</td>\n",
       "      <td>Zimbabwe</td>\n",
       "      <td>3873.28</td>\n",
       "      <td>Zimbabwe</td>\n",
       "      <td>14645473.0</td>\n",
       "    </tr>\n",
       "    <tr>\n",
       "      <th>1</th>\n",
       "      <td>Tropical</td>\n",
       "      <td>Zambia</td>\n",
       "      <td>7054.73</td>\n",
       "      <td>Zambia</td>\n",
       "      <td>17861034.0</td>\n",
       "    </tr>\n",
       "    <tr>\n",
       "      <th>2</th>\n",
       "      <td>Subtropics</td>\n",
       "      <td>West Bank and Gaza</td>\n",
       "      <td>25371.59</td>\n",
       "      <td>West Bank and Gaza</td>\n",
       "      <td>4685306.0</td>\n",
       "    </tr>\n",
       "    <tr>\n",
       "      <th>3</th>\n",
       "      <td>Tropical</td>\n",
       "      <td>Vietnam</td>\n",
       "      <td>635.76</td>\n",
       "      <td>Vietnam</td>\n",
       "      <td>96462108.0</td>\n",
       "    </tr>\n",
       "    <tr>\n",
       "      <th>4</th>\n",
       "      <td>Tropical</td>\n",
       "      <td>Vanuatu</td>\n",
       "      <td>0.15</td>\n",
       "      <td>Vanuatu</td>\n",
       "      <td>299882.0</td>\n",
       "    </tr>\n",
       "    <tr>\n",
       "      <th>5</th>\n",
       "      <td>Temperate</td>\n",
       "      <td>Uzbekistan</td>\n",
       "      <td>28069.10</td>\n",
       "      <td>Uzbekistan</td>\n",
       "      <td>33580350.0</td>\n",
       "    </tr>\n",
       "    <tr>\n",
       "      <th>6</th>\n",
       "      <td>Subtropics</td>\n",
       "      <td>Uruguay</td>\n",
       "      <td>2208.85</td>\n",
       "      <td>Uruguay</td>\n",
       "      <td>3461731.0</td>\n",
       "    </tr>\n",
       "    <tr>\n",
       "      <th>7</th>\n",
       "      <td>Tropical</td>\n",
       "      <td>United Kingdom</td>\n",
       "      <td>289.13</td>\n",
       "      <td>United Kingdom</td>\n",
       "      <td>66836327.0</td>\n",
       "    </tr>\n",
       "    <tr>\n",
       "      <th>8</th>\n",
       "      <td>Tropical</td>\n",
       "      <td>United Kingdom</td>\n",
       "      <td>0.84</td>\n",
       "      <td>United Kingdom</td>\n",
       "      <td>66836327.0</td>\n",
       "    </tr>\n",
       "    <tr>\n",
       "      <th>9</th>\n",
       "      <td>Tropical</td>\n",
       "      <td>United Kingdom</td>\n",
       "      <td>9.70</td>\n",
       "      <td>United Kingdom</td>\n",
       "      <td>66836327.0</td>\n",
       "    </tr>\n",
       "  </tbody>\n",
       "</table>\n",
       "</div>"
      ],
      "text/plain": [
       "      Climate      Country Region  Avg. Confirmed Cases        Country Name  \\\n",
       "0    Tropical            Zimbabwe               3873.28            Zimbabwe   \n",
       "1    Tropical              Zambia               7054.73              Zambia   \n",
       "2  Subtropics  West Bank and Gaza              25371.59  West Bank and Gaza   \n",
       "3    Tropical             Vietnam                635.76             Vietnam   \n",
       "4    Tropical             Vanuatu                  0.15             Vanuatu   \n",
       "5   Temperate          Uzbekistan              28069.10          Uzbekistan   \n",
       "6  Subtropics             Uruguay               2208.85             Uruguay   \n",
       "7    Tropical      United Kingdom                289.13      United Kingdom   \n",
       "8    Tropical      United Kingdom                  0.84      United Kingdom   \n",
       "9    Tropical      United Kingdom                  9.70      United Kingdom   \n",
       "\n",
       "   2019 [YR2019]  \n",
       "0     14645473.0  \n",
       "1     17861034.0  \n",
       "2      4685306.0  \n",
       "3     96462108.0  \n",
       "4       299882.0  \n",
       "5     33580350.0  \n",
       "6      3461731.0  \n",
       "7     66836327.0  \n",
       "8     66836327.0  \n",
       "9     66836327.0  "
      ]
     },
     "execution_count": 73,
     "metadata": {},
     "output_type": "execute_result"
    }
   ],
   "source": [
    "display(df_test_2020.tail(10))\n",
    "df_test_2020.head(10)"
   ]
  },
  {
   "cell_type": "code",
   "execution_count": 84,
   "metadata": {},
   "outputs": [
    {
     "name": "stdout",
     "output_type": "stream",
     "text": [
      "<class 'pandas.core.frame.DataFrame'>\n",
      "Int64Index: 252 entries, 0 to 251\n",
      "Data columns (total 5 columns):\n",
      " #   Column                Non-Null Count  Dtype  \n",
      "---  ------                --------------  -----  \n",
      " 0   Climate               252 non-null    object \n",
      " 1   Country Region        252 non-null    object \n",
      " 2   Avg. Confirmed Cases  252 non-null    float64\n",
      " 3   Country Name          252 non-null    object \n",
      " 4   2019 [YR2019]         252 non-null    float64\n",
      "dtypes: float64(2), object(3)\n",
      "memory usage: 11.8+ KB\n"
     ]
    }
   ],
   "source": [
    "df_test_2020.info()"
   ]
  },
  {
   "cell_type": "code",
   "execution_count": 79,
   "metadata": {},
   "outputs": [
    {
     "data": {
      "text/html": [
       "<div>\n",
       "<style scoped>\n",
       "    .dataframe tbody tr th:only-of-type {\n",
       "        vertical-align: middle;\n",
       "    }\n",
       "\n",
       "    .dataframe tbody tr th {\n",
       "        vertical-align: top;\n",
       "    }\n",
       "\n",
       "    .dataframe thead th {\n",
       "        text-align: right;\n",
       "    }\n",
       "</style>\n",
       "<table border=\"1\" class=\"dataframe\">\n",
       "  <thead>\n",
       "    <tr style=\"text-align: right;\">\n",
       "      <th></th>\n",
       "      <th></th>\n",
       "      <th>Avg. Confirmed Cases</th>\n",
       "      <th>2019 [YR2019]</th>\n",
       "    </tr>\n",
       "    <tr>\n",
       "      <th>Climate</th>\n",
       "      <th>Country Region</th>\n",
       "      <th></th>\n",
       "      <th></th>\n",
       "    </tr>\n",
       "  </thead>\n",
       "  <tbody>\n",
       "    <tr>\n",
       "      <th rowspan=\"5\" valign=\"top\">Polar</th>\n",
       "      <th>Canada</th>\n",
       "      <td>16.413333</td>\n",
       "      <td>37601230.0</td>\n",
       "    </tr>\n",
       "    <tr>\n",
       "      <th>Denmark</th>\n",
       "      <td>143.710000</td>\n",
       "      <td>5814422.0</td>\n",
       "    </tr>\n",
       "    <tr>\n",
       "      <th>Finland</th>\n",
       "      <td>9558.020000</td>\n",
       "      <td>5521606.0</td>\n",
       "    </tr>\n",
       "    <tr>\n",
       "      <th>Iceland</th>\n",
       "      <td>2341.620000</td>\n",
       "      <td>360563.0</td>\n",
       "    </tr>\n",
       "    <tr>\n",
       "      <th>Norway</th>\n",
       "      <td>12838.780000</td>\n",
       "      <td>5347896.0</td>\n",
       "    </tr>\n",
       "    <tr>\n",
       "      <th>...</th>\n",
       "      <th>...</th>\n",
       "      <td>...</td>\n",
       "      <td>...</td>\n",
       "    </tr>\n",
       "    <tr>\n",
       "      <th rowspan=\"5\" valign=\"top\">Tropical</th>\n",
       "      <th>United Kingdom</th>\n",
       "      <td>81.166667</td>\n",
       "      <td>66836327.0</td>\n",
       "    </tr>\n",
       "    <tr>\n",
       "      <th>Vanuatu</th>\n",
       "      <td>0.150000</td>\n",
       "      <td>299882.0</td>\n",
       "    </tr>\n",
       "    <tr>\n",
       "      <th>Vietnam</th>\n",
       "      <td>635.760000</td>\n",
       "      <td>96462108.0</td>\n",
       "    </tr>\n",
       "    <tr>\n",
       "      <th>Zambia</th>\n",
       "      <td>7054.730000</td>\n",
       "      <td>17861034.0</td>\n",
       "    </tr>\n",
       "    <tr>\n",
       "      <th>Zimbabwe</th>\n",
       "      <td>3873.280000</td>\n",
       "      <td>14645473.0</td>\n",
       "    </tr>\n",
       "  </tbody>\n",
       "</table>\n",
       "<p>178 rows × 2 columns</p>\n",
       "</div>"
      ],
      "text/plain": [
       "                         Avg. Confirmed Cases  2019 [YR2019]\n",
       "Climate  Country Region                                     \n",
       "Polar    Canada                     16.413333     37601230.0\n",
       "         Denmark                   143.710000      5814422.0\n",
       "         Finland                  9558.020000      5521606.0\n",
       "         Iceland                  2341.620000       360563.0\n",
       "         Norway                  12838.780000      5347896.0\n",
       "...                                       ...            ...\n",
       "Tropical United Kingdom             81.166667     66836327.0\n",
       "         Vanuatu                     0.150000       299882.0\n",
       "         Vietnam                   635.760000     96462108.0\n",
       "         Zambia                   7054.730000     17861034.0\n",
       "         Zimbabwe                 3873.280000     14645473.0\n",
       "\n",
       "[178 rows x 2 columns]"
      ]
     },
     "execution_count": 79,
     "metadata": {},
     "output_type": "execute_result"
    }
   ],
   "source": [
    "df_test_2020.groupby(['Climate','Country Region']).mean()"
   ]
  },
  {
   "cell_type": "code",
   "execution_count": null,
   "metadata": {},
   "outputs": [],
   "source": []
  }
 ],
 "metadata": {
  "kernelspec": {
   "display_name": "Python 3",
   "language": "python",
   "name": "python3"
  },
  "language_info": {
   "codemirror_mode": {
    "name": "ipython",
    "version": 3
   },
   "file_extension": ".py",
   "mimetype": "text/x-python",
   "name": "python",
   "nbconvert_exporter": "python",
   "pygments_lexer": "ipython3",
   "version": "3.7.4"
  }
 },
 "nbformat": 4,
 "nbformat_minor": 2
}
